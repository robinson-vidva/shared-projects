{
 "cells": [
  {
   "cell_type": "code",
   "execution_count": 1,
   "id": "84899d7e",
   "metadata": {},
   "outputs": [
    {
     "name": "stdout",
     "output_type": "stream",
     "text": [
      "✅ requests installed\n",
      "📦 Installing gseapy...\n",
      "✅ gseapy installed successfully\n"
     ]
    }
   ],
   "source": [
    "import subprocess\n",
    "import sys\n",
    "\n",
    "# Install requests\n",
    "subprocess.check_call([sys.executable, \"-m\", \"pip\", \"install\", \"requests\"])\n",
    "print(\"✅ requests installed\")\n",
    "\n",
    "# Install gseapy\n",
    "print(\"📦 Installing gseapy...\")\n",
    "try:\n",
    "    subprocess.check_call([sys.executable, \"-m\", \"pip\", \"install\", \"gseapy\"])\n",
    "    print(\"✅ gseapy installed successfully\")\n",
    "except Exception as e:\n",
    "    print(f\"❌ Failed to install gseapy: {e}\")"
   ]
  },
  {
   "cell_type": "code",
   "execution_count": 6,
   "id": "21f09c6b",
   "metadata": {},
   "outputs": [
    {
     "name": "stdout",
     "output_type": "stream",
     "text": [
      "✅ Enrichr is back online!\n",
      "🎉 Ready to run the analysis!\n"
     ]
    }
   ],
   "source": [
    "import requests\n",
    "import time\n",
    "\n",
    "def check_enrichr_status():\n",
    "    try:\n",
    "        response = requests.get('https://maayanlab.cloud/Enrichr/', timeout=10)\n",
    "        if response.status_code == 200:\n",
    "            print(\"✅ Enrichr is back online!\")\n",
    "            return True\n",
    "        else:\n",
    "            print(f\"⚠️ Still down: {response.status_code}\")\n",
    "            return False\n",
    "    except:\n",
    "        print(\"❌ Still unreachable\")\n",
    "        return False\n",
    "\n",
    "# Check every 30 minutes\n",
    "while not check_enrichr_status():\n",
    "    print(\"Waiting 30 minutes...\")\n",
    "    time.sleep(1800)  # 30 minutes\n",
    "    \n",
    "print(\"🎉 Ready to run the analysis!\")"
   ]
  },
  {
   "cell_type": "code",
   "execution_count": null,
   "id": "09a1e08b",
   "metadata": {},
   "outputs": [],
   "source": [
    "import gseapy as gp\n",
    "\n",
    "def simple_gseapy_check():\n",
    "    print(\"🔍 Checking gseapy status (simple)...\")\n",
    "    \n",
    "    # Check version\n",
    "    try:\n",
    "        print(f\"   📦 gseapy version: {gp.__version__}\")\n",
    "    except:\n",
    "        print(\"   ❌ Cannot get gseapy version\")\n",
    "    \n",
    "    # Check available gene sets\n",
    "    try:\n",
    "        gene_sets = gp.get_library_name()\n",
    "        kegg_sets = [gs for gs in gene_sets if 'KEGG' in gs]\n",
    "        print(f\"   📋 Found {len(kegg_sets)} KEGG databases\")\n",
    "        print(f\"   🎯 KEGG databases: {kegg_sets[:3]}...\")  # Show first 3\n",
    "    except Exception as e:\n",
    "        print(f\"   ❌ Cannot get gene sets: {str(e)[:50]}...\")\n",
    "        return False\n",
    "    \n",
    "    # Quick enrichment test\n",
    "    try:\n",
    "        print(\"   🧪 Testing enrichment...\")\n",
    "        result = gp.enrichr(['TP53', 'BRCA1'], \n",
    "                           gene_sets=['KEGG_2021_Human'], \n",
    "                           organism='human', \n",
    "                           timeout=15,\n",
    "                           no_plot=True)\n",
    "        \n",
    "        if hasattr(result, 'results') and len(result.results) > 0:\n",
    "            print(f\"   ✅ Enrichment test: SUCCESS ({len(result.results)} results)\")\n",
    "            return True\n",
    "        else:\n",
    "            print(\"   ⚠️  Enrichment test: No results returned\")\n",
    "            return False\n",
    "            \n",
    "    except Exception as e:\n",
    "        print(f\"   ❌ Enrichment test: FAILED - {str(e)[:100]}...\")\n",
    "        return False\n",
    "\n",
    "# Run the check\n",
    "status = simple_gseapy_check()\n",
    "print(f\"\\n🎯 Overall gseapy status: {'✅ WORKING' if status else '❌ ISSUES DETECTED'}\")"
   ]
  }
 ],
 "metadata": {
  "kernelspec": {
   "display_name": "Python 3",
   "language": "python",
   "name": "python3"
  },
  "language_info": {
   "codemirror_mode": {
    "name": "ipython",
    "version": 3
   },
   "file_extension": ".py",
   "mimetype": "text/x-python",
   "name": "python",
   "nbconvert_exporter": "python",
   "pygments_lexer": "ipython3",
   "version": "3.11.9"
  }
 },
 "nbformat": 4,
 "nbformat_minor": 5
}
